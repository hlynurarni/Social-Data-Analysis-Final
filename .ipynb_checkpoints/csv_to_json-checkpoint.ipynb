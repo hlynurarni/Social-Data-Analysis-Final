{
 "cells": [
  {
   "cell_type": "code",
   "execution_count": 7,
   "metadata": {},
   "outputs": [
    {
     "name": "stderr",
     "output_type": "stream",
     "text": [
      "C:\\Users\\fanndis\\AppData\\Local\\Continuum\\anaconda3\\lib\\site-packages\\IPython\\core\\interactiveshell.py:3063: DtypeWarning: Columns (52,83) have mixed types.Specify dtype option on import or set low_memory=False.\n",
      "  interactivity=interactivity, compiler=compiler, result=result)\n"
     ]
    }
   ],
   "source": [
    "# CSV 2 flare.json\n",
    "# convert a csv file to flare.json for use with many D3.js viz's\n",
    "# This script creates outputs a flare.json file with 2 levels of nesting.\n",
    "# For additional nested layers, add them in lines 32 - 47\n",
    "# sample: http://bl.ocks.org/mbostock/1283663\n",
    "\n",
    "# author: Andrew Heekin\n",
    "# MIT License\n",
    "\n",
    "import pandas as pd\n",
    "import json\n",
    "\n",
    "\n",
    "df = pd.read_csv('boroughWardCount.csv')\n",
    "\n",
    "\n",
    "#df = df_old.groupby(['IncGeo_BoroughName', 'WardName']).size().reset_index(name = 'Count')\n",
    "\n",
    "\n",
    "\n",
    "\n",
    "# choose columns to keep, in the desired nested json hierarchical order\n",
    "#df = df[[\"IncGeo_BoroughName\", \"WardName\", \"Count\"]]\n",
    "\n",
    "\n",
    "# order in the groupby here matters, it determines the json nesting\n",
    "# the groupby call makes a pandas series by grouping 'the_parent' and 'the_child', while summing the numerical column 'child_size'\n",
    "df1 = df.groupby(['IncGeo_BoroughName', 'WardName'])['Count'].sum()\n",
    "df1 = df1.reset_index()\n",
    "\n",
    "\n",
    "# start a new flare.json document\n",
    "flare = dict()\n",
    "flare = {\"name\":\"flare\", \"children\": []}\n",
    "d =  {\"name\":\"flare\", \"children\": []}\n",
    "\n",
    "\n",
    "for line in df1.values:\n",
    "    the_parent = line[0]\n",
    "    the_child = line[1]\n",
    "    child_size = line[2]\n",
    "\n",
    "    # make a list of keys\n",
    "    keys_list = []\n",
    "    for item in d['children']:\n",
    "        keys_list.append(item['name'])\n",
    "\n",
    "    # if 'the_parent' is NOT a key in the flare.json yet, append it\n",
    "    if not the_parent in keys_list:\n",
    "        d['children'].append({\"name\":the_parent, \"children\":[{\"name\":the_child, \"size\":child_size}]})\n",
    "\n",
    "    # if 'the_parent' IS a key in the flare.json, add a new child to it\n",
    "    else:\n",
    "        d['children'][keys_list.index(the_parent)]['children'].append({\"name\":the_child, \"size\":child_size})\n",
    "\n",
    "flare = d\n",
    "\n",
    "\n",
    "# export the final result to a json file\n",
    "with open('flare.json', 'w') as outfile:\n",
    "    json.dump(flare, outfile)"
   ]
  },
  {
   "cell_type": "code",
   "execution_count": null,
   "metadata": {},
   "outputs": [],
   "source": []
  }
 ],
 "metadata": {
  "kernelspec": {
   "display_name": "Python 3",
   "language": "python",
   "name": "python3"
  },
  "language_info": {
   "codemirror_mode": {
    "name": "ipython",
    "version": 3
   },
   "file_extension": ".py",
   "mimetype": "text/x-python",
   "name": "python",
   "nbconvert_exporter": "python",
   "pygments_lexer": "ipython3",
   "version": "3.7.3"
  }
 },
 "nbformat": 4,
 "nbformat_minor": 4
}
