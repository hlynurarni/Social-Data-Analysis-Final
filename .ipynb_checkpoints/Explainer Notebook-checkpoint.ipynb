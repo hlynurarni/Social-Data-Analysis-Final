{
 "cells": [
  {
   "cell_type": "markdown",
   "metadata": {},
   "source": [
    "# 1. Motivation\n",
    "* **What is your dataset**\n",
    "* **Why did you choose this/these particular dataset(s)?**\n",
    "* **What was your goal for the end user's experience?**"
   ]
  },
  {
   "cell_type": "markdown",
   "metadata": {},
   "source": [
    "---\n",
    "The datasets from the analysis relate to fire incidents attend to by the London Fire Brigade (LFB). The LFB is the busiest fire and rescue service in the United Kingdom and one of the largest firefighting and rescue organisations in the world. \n",
    "\n",
    "The main datasets are provided directly from the LFB through the London Datastore. They are:\n",
    "1. London Fire Brigade Incident Records.\n",
    "2. London Fire Brigade Mobilisation Records.\n",
    "3. Bariatric incidents attended by LFB\n",
    "\n",
    "Additionally other datasets were used to enrich the LFB data and gather more insights. They are: \n",
    "<font color='red'>\n",
    "1. Latitude/Longitude data by other locational data such as bourough code / ward code / ....\n",
    "2. Weather data\n",
    "3. Housing data\n",
    "</font>\n",
    "---\n",
    "These particular datasets where chosen for a few different reasons.\n",
    "* They represent an interesting topic\n",
    "* The smallest geography of the dataset are coordinates.\n",
    "    * This provides the option for an analysis on a highly granular level.\n",
    "* Multiple research questions could be explored on the dataset.\n",
    "* The main datasets contain a unique incident key that can be used to combine the datasets on.\n",
    "* The datasets go back to 2009 so there is plenty of data to work with.\n",
    "---\n",
    "<font color='red'>\n",
    "The goal for the end user's experience is to ...\n",
    "</font>\n",
    "\n",
    "---\n",
    "The main idea is to explore the datasets and answer some of these possible research questions that came up during a brainstorming session. There is a possibility that some of those questions can not be answered because of lack of data, but that will be explored during the exploratory analysis of the dataset. It will be interesting to explore the differences between neighbourhoods when it comes to fire incidents and looking at the evolution of fire incidents over the years. \n",
    "\n",
    "The possible research questions and speculations about the data are:\n",
    "* ***Are the response times different depending on the incident location?***\n",
    "    * Could there be a bias between the different neighbourhoods in London?\n",
    "    * Could anything else be causing delays in the response time between different areas?\n",
    "    * Which areas are most effected by traffic causing a delay to the response times?\n",
    "        * Could possible be related to additional traffic data\n",
    "        * Is the delay possible related to the weather conditions?\n",
    "            * Is it possible to add weather data to the analysis?\n",
    "* ***Are there any trends when it comes to incidents?***\n",
    "    * Are incidents more likely during the weekends?\n",
    "    * Are incidents more likely during the evening?\n",
    "    * Which types of incidents are being reported?\n",
    "        * Are there differences between the differenct areas within London?\n",
    "* ***How severe are the fires? Are there differences between the neighbourhoods in London?***\n",
    "    * Could this possibly relate to when the houses in the are were built?\n",
    "        * Is it possible to find additional datasets related to this?\n",
    "* ***Where are the first responding fire trucks coming from?***\n",
    "    * Could the fire stations be better located?\n",
    "        * Would need additional information about the exact location of the fire stations.\n",
    "* ***The LFB handles a lot of special request calls, assiting other emergency reponders. Is there anything of special interest in that dataset?***\n",
    "    * Bariatric Incidents - are there differences in those calls between the different areas in London?\n",
    "        * Could it be connected to the population living in the area?\n",
    "            * Could additional data about the age/gender/ethnicity of the population of each area be added?\n",
    "* ***Is it possible to create a prediction model to predict how long it will take for the LFB to arrive to an incident?***\n",
    "* ***Is it possible to create a prediction model that predicts the likelihood of a fire happening, on a certain day in a certain location etc.***\n",
    "* ***Is it possible to connect incidents to some trends in human behaviour or something that is popular during certain times?***\n",
    "    * Would need to be able to find relevant additional datasets.\n",
    "    \n"
   ]
  },
  {
   "cell_type": "markdown",
   "metadata": {},
   "source": [
    "# 2. Basic stats\n",
    "**Lets understand the dataset better**\n",
    "* **Write about your choices in data cleaning and preprocessing**\n",
    "* **Write a short section that discusses the dataset stats, containing key points/plots from your exploratory data analysis.**"
   ]
  },
  {
   "cell_type": "code",
   "execution_count": 1,
   "metadata": {},
   "outputs": [],
   "source": [
    "## 2.1 The Datasets"
   ]
  },
  {
   "cell_type": "markdown",
   "metadata": {},
   "source": [
    "# 3. Data Analysis\n",
    "* **Describe your data analysis and explain what you've learned about the dataset.**\n",
    "* **If relevant, talk about your machine-learning.**"
   ]
  },
  {
   "cell_type": "code",
   "execution_count": null,
   "metadata": {},
   "outputs": [],
   "source": []
  },
  {
   "cell_type": "markdown",
   "metadata": {},
   "source": [
    "# 4. Genre\n",
    "**Which genre of data story did you use?**\n",
    "* **Which tools did you use from each of the 3 categories of Visual Narrative (Figure 7 in Segal and Heer). Why?**\n",
    "* **Which tools did you use from each of the 3 categories of Narrative Structure (Figure 7 in Segal and Heer). Why?**"
   ]
  },
  {
   "cell_type": "code",
   "execution_count": null,
   "metadata": {},
   "outputs": [],
   "source": []
  },
  {
   "cell_type": "markdown",
   "metadata": {},
   "source": [
    "# 5. Visualizations\n",
    "* **Explain the visualizations you've chosen**\n",
    "* **Why are they right for the story you want to tell?**"
   ]
  },
  {
   "cell_type": "code",
   "execution_count": null,
   "metadata": {},
   "outputs": [],
   "source": []
  },
  {
   "cell_type": "markdown",
   "metadata": {},
   "source": [
    "# 6. Discussion\n",
    "**Think critically about your creation**\n",
    "* **What went well?**\n",
    "* **What is still missing? What could be improved? Why?**"
   ]
  },
  {
   "cell_type": "code",
   "execution_count": null,
   "metadata": {},
   "outputs": [],
   "source": []
  },
  {
   "cell_type": "markdown",
   "metadata": {},
   "source": [
    "# 7. Contribution\n",
    "**Who did what?**\n",
    "* **You should write (just briefly) which group member was the main responsible for which elements of the assignment.  (I want you guys to understand every part of the assignment, but usually there is someone who took lead role on certain portions of the work. That's what you should explain).**\n",
    "* **It is not OK simply to write \"All group members contributed equally\".**"
   ]
  },
  {
   "cell_type": "code",
   "execution_count": null,
   "metadata": {},
   "outputs": [],
   "source": []
  },
  {
   "cell_type": "markdown",
   "metadata": {},
   "source": [
    "# 8. References"
   ]
  },
  {
   "cell_type": "code",
   "execution_count": null,
   "metadata": {},
   "outputs": [],
   "source": []
  }
 ],
 "metadata": {
  "kernelspec": {
   "display_name": "Python 3",
   "language": "python",
   "name": "python3"
  },
  "language_info": {
   "codemirror_mode": {
    "name": "ipython",
    "version": 3
   },
   "file_extension": ".py",
   "mimetype": "text/x-python",
   "name": "python",
   "nbconvert_exporter": "python",
   "pygments_lexer": "ipython3",
   "version": "3.7.3"
  }
 },
 "nbformat": 4,
 "nbformat_minor": 2
}
