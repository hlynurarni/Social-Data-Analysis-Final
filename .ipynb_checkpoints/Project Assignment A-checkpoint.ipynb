{
 "cells": [
  {
   "cell_type": "markdown",
   "metadata": {},
   "source": [
    "# Project Assignment A - Project prompt\n",
    "The first part of the final project is an 2 minute movie, which should explain the central idea/concept that you will investigate in your final project. You're making the movie so that the TAs and I can give you feedback, and so that other groups can steal your ideas (and you can steal ideas from them). The movie must contain the following\n",
    "\n",
    "* **An explanation of the central idea behind your final project (what is the idea? which datasets do you need to explore the idea?, why is it interesting?)**\n",
    "* **A mock up of the visualization that you wish to build. (Anything is fine here. Pen and paper, MS Paint, Inkscape, D3, anything.).**\n",
    "* **Make sure you answer the questions**\n",
    "    * **What genre is it? (for Genres, see section 4.3 of the Segel and Heer paper)**\n",
    "    * **Why is that genre right for telling the story you want to communicate with the data**\n",
    "* **An outline on the elements you'll need to get to your goal.**\n",
    "* **The implementation plan.**\n",
    "* **A walk-through of your preliminary data-analysis, addressing**\n",
    "    * **What is the total size of your data? (MB, number of rows, number of variables, etc)**\n",
    "    * **What are other properties? (What is the date range? Is is it geo-data?, then a quick plot of locations, etc.)**\n",
    "    * **Show the fundamental distributions of the data (similar to the work we did on SF crime data for lecture 3)**\n",
    "\n",
    "But other than that, there are no constraints. And we do appreciate funny/inventive/beautiful movies, although the academic content is most important. Note that we'll display the movie to the entire class.\n",
    "\n",
    "(The maximum length is 2 minutes, but its OK if the movie is shorter.)\n",
    "\n",
    "Handing in the assignment: Simply upload your video to youtube or another video hosting site (the higher the resolution the better) and submit the link to peergrade."
   ]
  },
  {
   "cell_type": "markdown",
   "metadata": {},
   "source": [
    "# Our answers - outline of video"
   ]
  },
  {
   "cell_type": "markdown",
   "metadata": {},
   "source": [
    "* **An explanation of the central idea behind your final project (what is the idea? which datasets do you need to explore the idea?, why is it interesting?)**"
   ]
  },
  {
   "cell_type": "code",
   "execution_count": null,
   "metadata": {},
   "outputs": [],
   "source": []
  },
  {
   "cell_type": "markdown",
   "metadata": {},
   "source": [
    "* **A mock up of the visualization that you wish to build. (Anything is fine here. Pen and paper, MS Paint, Inkscape, D3, anything.).**\n",
    "* **Make sure you answer the questions**\n",
    "    * **What genre is it? (for Genres, see section 4.3 of the Segel and Heer paper)**\n",
    "    * **Why is that genre right for telling the story you want to communicate with the data**"
   ]
  },
  {
   "cell_type": "code",
   "execution_count": null,
   "metadata": {},
   "outputs": [],
   "source": []
  },
  {
   "cell_type": "markdown",
   "metadata": {},
   "source": [
    "* **An outline on the elements you'll need to get to your goal.**"
   ]
  },
  {
   "cell_type": "code",
   "execution_count": null,
   "metadata": {},
   "outputs": [],
   "source": []
  },
  {
   "cell_type": "markdown",
   "metadata": {},
   "source": [
    "* **The implementation plan.**"
   ]
  },
  {
   "cell_type": "code",
   "execution_count": null,
   "metadata": {},
   "outputs": [],
   "source": []
  },
  {
   "cell_type": "markdown",
   "metadata": {},
   "source": [
    "* **A walk-through of your preliminary data-analysis, addressing**\n",
    "    * **What is the total size of your data? (MB, number of rows, number of variables, etc)**\n",
    "    * **What are other properties? (What is the date range? Is is it geo-data?, then a quick plot of locations, etc.)**\n",
    "    * **Show the fundamental distributions of the data (similar to the work we did on SF crime data for lecture 3)**\n",
    "   "
   ]
  },
  {
   "cell_type": "markdown",
   "metadata": {},
   "source": [
    "Two main datasets:\n",
    "1. LFB Incident Records\n",
    "2. LFB Mobilisation Records (for fire engines)\n",
    "\n",
    "Perhaps adding attitional datasets\n",
    "1. Bariatric incidents attended by LFB (special services)\n",
    "2. Weather data\n",
    "\n",
    "\n",
    "### LFB Incident Records\n",
    "* Every incided responded to since January 2009 to the end of previous month.\n",
    "* Due to size it is split into three zip/Excel files\n",
    "    1. (January 2009 - December 2012) - 80.49 MB - Zip file - 485.056 rows\n",
    "    2. (January 2013 - December 2016) - 68.64 MB - Zip file - 403.985 rows\n",
    "    3. (January 2017 - March 2020) - 65.85 MB - Excel file - 330.515 rows\n",
    "* Number of variables = 36\n",
    "    1. IncidentNumber\n",
    "    2. DateOfCall\n",
    "    3. CalYear\n",
    "    4. TimeOfCall\n",
    "    5. HourOfCall\n",
    "    6. IncidentGroup\n",
    "    7. StopCodeDescription\n",
    "    8. SpecialServiceType\n",
    "    9. PropertyCategory\n",
    "    10. PropertyType\n",
    "    11. AddressQualifier\n",
    "    12. Postcode_full\n",
    "    13. Poscode_district\n",
    "    14. IncGeo_BoroughCode\n",
    "    15. IncGeo_BoroughName\n",
    "    16. ProperCase\n",
    "    17. IncGeo_WardCode\n",
    "    18. IncGeo_WardName\n",
    "    19. IncGeo_WardNameNew\n",
    "    20. Easting_m\n",
    "    21. Northing_m\n",
    "    22. Easting_rounded\n",
    "    23. Northing_rounded\n",
    "    24. Latitude\n",
    "    25. Longitude\n",
    "    26. FRS\n",
    "    27. IncidentStationGround\n",
    "    28. FirstPumpArriving_AttendanceTime\n",
    "    29. FirstPumpArriving_DeployedFromStation\n",
    "    30. SecondPumpArriving_AttendanceTime\n",
    "    31. SecondPumpArriving_DeployedFromStation\n",
    "    32. NumStationsWithPumpsAttending\n",
    "    33. NumPumpsAttending\n",
    "    34. PumpCount\n",
    "    35. PumpHoursRoundUp\n",
    "    36. Notional Cost (£)\n",
    "* Date range: January 2009 - March 2020\n",
    "* Yes it includes geo data, both latitude and longitude in some cases. In other cases it containes the area in different attributes such as BoroughName, WardName. "
   ]
  },
  {
   "cell_type": "code",
   "execution_count": null,
   "metadata": {},
   "outputs": [],
   "source": []
  }
 ],
 "metadata": {
  "kernelspec": {
   "display_name": "Python 3",
   "language": "python",
   "name": "python3"
  },
  "language_info": {
   "codemirror_mode": {
    "name": "ipython",
    "version": 3
   },
   "file_extension": ".py",
   "mimetype": "text/x-python",
   "name": "python",
   "nbconvert_exporter": "python",
   "pygments_lexer": "ipython3",
   "version": "3.7.3"
  }
 },
 "nbformat": 4,
 "nbformat_minor": 2
}
