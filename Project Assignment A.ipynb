{
 "cells": [
  {
   "cell_type": "markdown",
   "metadata": {},
   "source": [
    "# Project Assignment A - Project prompt\n",
    "The first part of the final project is an 2 minute movie, which should explain the central idea/concept that you will investigate in your final project. You're making the movie so that the TAs and I can give you feedback, and so that other groups can steal your ideas (and you can steal ideas from them). The movie must contain the following\n",
    "\n",
    "* **An explanation of the central idea behind your final project (what is the idea? which datasets do you need to explore the idea?, why is it interesting?)**\n",
    "* **A mock up of the visualization that you wish to build. (Anything is fine here. Pen and paper, MS Paint, Inkscape, D3, anything.).**\n",
    "* **Make sure you answer the questions**\n",
    "    * **What genre is it? (for Genres, see section 4.3 of the Segel and Heer paper)**\n",
    "    * **Why is that genre right for telling the story you want to communicate with the data**\n",
    "* **An outline on the elements you'll need to get to your goal.**\n",
    "* **The implementation plan.**\n",
    "* **A walk-through of your preliminary data-analysis, addressing**\n",
    "    * **What is the total size of your data? (MB, number of rows, number of variables, etc)**\n",
    "    * **What are other properties? (What is the date range? Is is it geo-data?, then a quick plot of locations, etc.)**\n",
    "    * **Show the fundamental distributions of the data (similar to the work we did on SF crime data for lecture 3)**\n",
    "\n",
    "But other than that, there are no constraints. And we do appreciate funny/inventive/beautiful movies, although the academic content is most important. Note that we'll display the movie to the entire class.\n",
    "\n",
    "(The maximum length is 2 minutes, but its OK if the movie is shorter.)\n",
    "\n",
    "Handing in the assignment: Simply upload your video to youtube or another video hosting site (the higher the resolution the better) and submit the link to peergrade."
   ]
  },
  {
   "cell_type": "markdown",
   "metadata": {},
   "source": [
    "# Our answers - outline of video"
   ]
  },
  {
   "cell_type": "markdown",
   "metadata": {},
   "source": [
    "* **An explanation of the central idea behind your final project (what is the idea? which datasets do you need to explore the idea?, why is it interesting?)**"
   ]
  },
  {
   "cell_type": "code",
   "execution_count": null,
   "metadata": {},
   "outputs": [],
   "source": []
  },
  {
   "cell_type": "markdown",
   "metadata": {},
   "source": [
    "* **A mock up of the visualization that you wish to build. (Anything is fine here. Pen and paper, MS Paint, Inkscape, D3, anything.).**\n",
    "* **Make sure you answer the questions**\n",
    "    * **What genre is it? (for Genres, see section 4.3 of the Segel and Heer paper)**\n",
    "    * **Why is that genre right for telling the story you want to communicate with the data**"
   ]
  },
  {
   "cell_type": "code",
   "execution_count": null,
   "metadata": {},
   "outputs": [],
   "source": []
  },
  {
   "cell_type": "markdown",
   "metadata": {},
   "source": [
    "* **An outline on the elements you'll need to get to your goal.**"
   ]
  },
  {
   "cell_type": "code",
   "execution_count": null,
   "metadata": {},
   "outputs": [],
   "source": []
  },
  {
   "cell_type": "markdown",
   "metadata": {},
   "source": [
    "* **The implementation plan.**"
   ]
  },
  {
   "cell_type": "code",
   "execution_count": null,
   "metadata": {},
   "outputs": [],
   "source": []
  },
  {
   "cell_type": "markdown",
   "metadata": {},
   "source": [
    "* **A walk-through of your preliminary data-analysis, addressing**\n",
    "    * **What is the total size of your data? (MB, number of rows, number of variables, etc)**\n",
    "    * **What are other properties? (What is the date range? Is is it geo-data?, then a quick plot of locations, etc.)**\n",
    "    * **Show the fundamental distributions of the data (similar to the work we did on SF crime data for lecture 3)**"
   ]
  },
  {
   "cell_type": "code",
   "execution_count": null,
   "metadata": {},
   "outputs": [],
   "source": []
  }
 ],
 "metadata": {
  "kernelspec": {
   "display_name": "Python 3",
   "language": "python",
   "name": "python3"
  },
  "language_info": {
   "codemirror_mode": {
    "name": "ipython",
    "version": 3
   },
   "file_extension": ".py",
   "mimetype": "text/x-python",
   "name": "python",
   "nbconvert_exporter": "python",
   "pygments_lexer": "ipython3",
   "version": "3.7.3"
  }
 },
 "nbformat": 4,
 "nbformat_minor": 2
}
